{
 "cells": [
  {
   "cell_type": "markdown",
   "id": "ebdd803f-cc3c-4db6-8880-3b945d4eaaa5",
   "metadata": {},
   "source": [
    "# Slit Width vs Spectral Resolution\n",
    "\n",
    "The tradebook is based on past research as well as past tradebooks developed by the team. Some tradebooks referenced include *\"Spectral Resolution vs. Fringe Frequency*.\" The tradebook derives the relation based on FWHM and a few assumptions.\n",
    "\n",
    "## Derivation\n",
    "Spectral Resolution is defined as:\n",
    "\\begin{equation}\n",
    "    SR=\\frac{\\lambda}{\\Delta\\lambda}\n",
    "\\end{equation}\n",
    "\n",
    "However, from research, it can be said that $\\Delta\\lambda$ is equivalent to **FWHM**. Thus, Spectral Resolution can be expressed as:\n",
    "\n",
    "\\begin{equation}\n",
    "SR=\\frac{\\lambda}{FWHM}.\n",
    "\\end{equation}\n",
    "\n",
    "FWHM is expressed as:\n",
    "\\begin{equation}\n",
    "    FWHM = \\frac{a\\cdot cos(\\alpha)\\cdot w}{k \\cdot f},\n",
    "\\end{equation}\n",
    "where $f$ is focal length of the lens (mm), $\\alpha$ is the incident angle (deg), $a$ is the fringe frequency of grating (1/mm), $w$ is slit width (mm), and $k$ is Specetral Order. The assumptions in this tradebook include that Spectral Order ($k$) is 1 and incident angle ($\\alpha$) is 0. As a result, the FWHM expression is simplified as so: \n",
    "\n",
    "FWHM is expressed as:\n",
    "\\begin{equation}\n",
    "    FWHM = \\frac{a \\cdot w}{f}.\n",
    "\\end{equation}\n",
    "\n",
    "According to the *Spectral Resolution vs. Fringe Frequency* Tradebook, the optimal cutoff for $a$ is 20 (1/mm) for beam diameters greater than 7 meters. Moreover, the tradebook studies a target wavelength of 1650nm, an upper wavelength of 1700nm, and a lower wavelength of 1600nm, which will also be studied in this paper. All three wavelengths will have a separate plot to see the results of the general cases. \n",
    "\n",
    "The tradebook also assumes the lens used is the **MVL100M23** with a focal length of 100mm.\n",
    "\n",
    "Based on these assumptions, the FWHM is further simplifed as so:\n",
    "\\begin{equation}\n",
    "    FWHM = \\frac{20 \\cdot w}{100}.\n",
    "\\end{equation}\n",
    "\n",
    "Given that FWHM only has one undefined variable $w$, which is slit width, it can now be plugged back into the Spectral Resolution formula for a direct relation. Since Spectral Resolution also requires a $\\lambda$ for it to be defined, there will be 3 independent plots of the target, upper, and lower wavelengths as expressed above.\n",
    "\n",
    "Uncertainties are assumed to be the same as discussed in the *Spectral Resolution vs. Fringe Frequency* Tradebook."
   ]
  },
  {
   "cell_type": "code",
   "execution_count": 2,
   "id": "fe03603e-0a38-457a-aaf4-11afa43a0438",
   "metadata": {},
   "outputs": [],
   "source": [
    "import matplotlib.pyplot as plt\n",
    "import numpy as np\n",
    "import pandas as pd"
   ]
  },
  {
   "cell_type": "code",
   "execution_count": 20,
   "id": "dade7dd5-b86b-4ed9-8f55-821b383944ac",
   "metadata": {},
   "outputs": [],
   "source": [
    "# Initial Assumptions based on @Spectral Resolution vs Fringe Frequency\n",
    "beam_diameter = 12 #12m \n",
    "target_wavelength = 1650 \n",
    "upper_wavelength = 1200 \n",
    "lower_wavelength = 1600\n",
    "\n",
    "#focal length based on part MVL100M23\n",
    "focal_length = 100"
   ]
  },
  {
   "cell_type": "markdown",
   "id": "311d5fd6-53c8-4a60-affd-56c8e228feeb",
   "metadata": {},
   "source": [
    "# Slit Width vs Spectral Resolution at Target Wavelength - 1650 nm\n",
    "\n",
    "\\begin{equation}\n",
    "SR = \\frac{\\lambda}{\\frac{20 \\cdot w}{100}}\n",
    "\\end{equation}\n",
    "By plugging in $\\lambda=1650$:\n",
    "\\begin{equation}\n",
    "SR = \\frac{1650}{\\frac{20 \\cdot w}{100}}\n",
    "\\end{equation}.\n",
    "\n",
    "Previous literature and research have used slit widths of variable lengths ranging from 5 micrometers, 15 mincrometers, to even 120 micrometers. To account for the most popular variations, a range of 1 to 121 micrometers was considered in the plot.\n",
    "\n",
    "Re-writing the expression for $SR$:\n",
    "\\begin{equation}\n",
    "SR = \\frac{1650 \\cdot 100}{20 \\cdot w}\n",
    "\\end{equation}.\n",
    "\n",
    "It should be noted that $w$ is inversely proportional to $SR$."
   ]
  },
  {
   "cell_type": "code",
   "execution_count": 6,
   "id": "f89bc571-8126-4471-a230-3e516115396a",
   "metadata": {},
   "outputs": [],
   "source": [
    "# Target Wavelength \n",
    "spectral_res_values = []\n",
    "for i in range(1, 121):\n",
    "    mm = i / 1000\n",
    "    fwhm = (20 * mm) / 100 #slit width in mm --> consistent with FWHM Formula\n",
    "    sr = 1650 / fwhm\n",
    "    spectral_res_values.append(sr)\n",
    "\n",
    "x = [i/1000 for i in range(1, 121)]\n"
   ]
  },
  {
   "cell_type": "code",
   "execution_count": 5,
   "id": "51ddf4d0-2f2b-4f7b-831c-7ad1b03fdb6e",
   "metadata": {},
   "outputs": [
    {
     "data": {
      "text/html": [
       "<div>\n",
       "<style scoped>\n",
       "    .dataframe tbody tr th:only-of-type {\n",
       "        vertical-align: middle;\n",
       "    }\n",
       "\n",
       "    .dataframe tbody tr th {\n",
       "        vertical-align: top;\n",
       "    }\n",
       "\n",
       "    .dataframe thead th {\n",
       "        text-align: right;\n",
       "    }\n",
       "</style>\n",
       "<table border=\"1\" class=\"dataframe\">\n",
       "  <thead>\n",
       "    <tr style=\"text-align: right;\">\n",
       "      <th></th>\n",
       "      <th>Slit Width (mm)</th>\n",
       "      <th>Spectral Resolution</th>\n",
       "    </tr>\n",
       "  </thead>\n",
       "  <tbody>\n",
       "    <tr>\n",
       "      <th>0</th>\n",
       "      <td>0.001</td>\n",
       "      <td>8.250000e+06</td>\n",
       "    </tr>\n",
       "    <tr>\n",
       "      <th>1</th>\n",
       "      <td>0.002</td>\n",
       "      <td>4.125000e+06</td>\n",
       "    </tr>\n",
       "    <tr>\n",
       "      <th>2</th>\n",
       "      <td>0.003</td>\n",
       "      <td>2.750000e+06</td>\n",
       "    </tr>\n",
       "    <tr>\n",
       "      <th>3</th>\n",
       "      <td>0.004</td>\n",
       "      <td>2.062500e+06</td>\n",
       "    </tr>\n",
       "    <tr>\n",
       "      <th>4</th>\n",
       "      <td>0.005</td>\n",
       "      <td>1.650000e+06</td>\n",
       "    </tr>\n",
       "    <tr>\n",
       "      <th>...</th>\n",
       "      <td>...</td>\n",
       "      <td>...</td>\n",
       "    </tr>\n",
       "    <tr>\n",
       "      <th>115</th>\n",
       "      <td>0.116</td>\n",
       "      <td>7.112069e+04</td>\n",
       "    </tr>\n",
       "    <tr>\n",
       "      <th>116</th>\n",
       "      <td>0.117</td>\n",
       "      <td>7.051282e+04</td>\n",
       "    </tr>\n",
       "    <tr>\n",
       "      <th>117</th>\n",
       "      <td>0.118</td>\n",
       "      <td>6.991525e+04</td>\n",
       "    </tr>\n",
       "    <tr>\n",
       "      <th>118</th>\n",
       "      <td>0.119</td>\n",
       "      <td>6.932773e+04</td>\n",
       "    </tr>\n",
       "    <tr>\n",
       "      <th>119</th>\n",
       "      <td>0.120</td>\n",
       "      <td>6.875000e+04</td>\n",
       "    </tr>\n",
       "  </tbody>\n",
       "</table>\n",
       "<p>120 rows × 2 columns</p>\n",
       "</div>"
      ],
      "text/plain": [
       "     Slit Width (mm)  Spectral Resolution\n",
       "0              0.001         8.250000e+06\n",
       "1              0.002         4.125000e+06\n",
       "2              0.003         2.750000e+06\n",
       "3              0.004         2.062500e+06\n",
       "4              0.005         1.650000e+06\n",
       "..               ...                  ...\n",
       "115            0.116         7.112069e+04\n",
       "116            0.117         7.051282e+04\n",
       "117            0.118         6.991525e+04\n",
       "118            0.119         6.932773e+04\n",
       "119            0.120         6.875000e+04\n",
       "\n",
       "[120 rows x 2 columns]"
      ]
     },
     "metadata": {},
     "output_type": "display_data"
    }
   ],
   "source": [
    "df = pd.DataFrame({\n",
    "    'Slit Width (mm)': x,\n",
    "    'Spectral Resolution': spectral_res_values\n",
    "})\n",
    "\n",
    "display(df)"
   ]
  },
  {
   "cell_type": "code",
   "execution_count": 7,
   "id": "f0a1ed80-bd94-48f7-943d-21517b4ee535",
   "metadata": {},
   "outputs": [
    {
     "data": {
      "text/plain": [
       "Text(0.5, 1.0, 'Slit Width (mm) vs Spectral Resolution of MVL100M23 at Target Wavelength')"
      ]
     },
     "execution_count": 7,
     "metadata": {},
     "output_type": "execute_result"
    },
    {
     "data": {
      "image/png": "[encoded data removed]",
      "text/plain": [
       "<Figure size 640x480 with 1 Axes>"
      ]
     },
     "metadata": {},
     "output_type": "display_data"
    }
   ],
   "source": [
    "plt.plot(x, spectral_res_values)\n",
    "plt.xlabel(\"Slit Width (mm)\")\n",
    "plt.ylabel(\"Spectral Resolution\")\n",
    "plt.title(\"Slit Width (mm) vs Spectral Resolution of MVL100M23 at Target Wavelength\")"
   ]
  },
  {
   "cell_type": "markdown",
   "id": "5e44d867-99cf-4bc2-8c27-8e016e4f5b8a",
   "metadata": {},
   "source": [
    "# Slit Width vs Spectral Resolution at Upper Wavelength - 1700 nm\n",
    "\n",
    "Similar process for Target Wavelength. However, instead of $\\lambda = 1650$nm, $\\lambda=1700$nm. The Spectral Resolution plotted is thus:\n",
    "\n",
    "\\begin{equation}\n",
    "SR = \\frac{1700 \\cdot 100}{20 \\cdot w}\n",
    "\\end{equation}."
   ]
  },
  {
   "cell_type": "code",
   "execution_count": 9,
   "id": "2dd0e4b8-89c1-45dd-99d8-c1d5ed245a2e",
   "metadata": {},
   "outputs": [],
   "source": [
    "# Upper Wavelength\n",
    "\n",
    "spectral_res_values = []\n",
    "for i in range(1, 121):\n",
    "    mm = i / 1000\n",
    "    fwhm = (20 * mm) / 100 #slit width in mm --> consistent with FWHM Formula\n",
    "    sr = 1700 / fwhm\n",
    "    spectral_res_values.append(sr)\n",
    "\n",
    "x = [i/1000 for i in range(1, 121)]"
   ]
  },
  {
   "cell_type": "code",
   "execution_count": 8,
   "id": "9224e997-22a2-4dba-adaa-3b67b6f2a6b9",
   "metadata": {},
   "outputs": [
    {
     "data": {
      "text/html": [
       "<div>\n",
       "<style scoped>\n",
       "    .dataframe tbody tr th:only-of-type {\n",
       "        vertical-align: middle;\n",
       "    }\n",
       "\n",
       "    .dataframe tbody tr th {\n",
       "        vertical-align: top;\n",
       "    }\n",
       "\n",
       "    .dataframe thead th {\n",
       "        text-align: right;\n",
       "    }\n",
       "</style>\n",
       "<table border=\"1\" class=\"dataframe\">\n",
       "  <thead>\n",
       "    <tr style=\"text-align: right;\">\n",
       "      <th></th>\n",
       "      <th>Slit Width (mm)</th>\n",
       "      <th>Spectral Resolution</th>\n",
       "    </tr>\n",
       "  </thead>\n",
       "  <tbody>\n",
       "    <tr>\n",
       "      <th>0</th>\n",
       "      <td>0.001</td>\n",
       "      <td>8.250000e+06</td>\n",
       "    </tr>\n",
       "    <tr>\n",
       "      <th>1</th>\n",
       "      <td>0.002</td>\n",
       "      <td>4.125000e+06</td>\n",
       "    </tr>\n",
       "    <tr>\n",
       "      <th>2</th>\n",
       "      <td>0.003</td>\n",
       "      <td>2.750000e+06</td>\n",
       "    </tr>\n",
       "    <tr>\n",
       "      <th>3</th>\n",
       "      <td>0.004</td>\n",
       "      <td>2.062500e+06</td>\n",
       "    </tr>\n",
       "    <tr>\n",
       "      <th>4</th>\n",
       "      <td>0.005</td>\n",
       "      <td>1.650000e+06</td>\n",
       "    </tr>\n",
       "    <tr>\n",
       "      <th>...</th>\n",
       "      <td>...</td>\n",
       "      <td>...</td>\n",
       "    </tr>\n",
       "    <tr>\n",
       "      <th>115</th>\n",
       "      <td>0.116</td>\n",
       "      <td>7.112069e+04</td>\n",
       "    </tr>\n",
       "    <tr>\n",
       "      <th>116</th>\n",
       "      <td>0.117</td>\n",
       "      <td>7.051282e+04</td>\n",
       "    </tr>\n",
       "    <tr>\n",
       "      <th>117</th>\n",
       "      <td>0.118</td>\n",
       "      <td>6.991525e+04</td>\n",
       "    </tr>\n",
       "    <tr>\n",
       "      <th>118</th>\n",
       "      <td>0.119</td>\n",
       "      <td>6.932773e+04</td>\n",
       "    </tr>\n",
       "    <tr>\n",
       "      <th>119</th>\n",
       "      <td>0.120</td>\n",
       "      <td>6.875000e+04</td>\n",
       "    </tr>\n",
       "  </tbody>\n",
       "</table>\n",
       "<p>120 rows × 2 columns</p>\n",
       "</div>"
      ],
      "text/plain": [
       "     Slit Width (mm)  Spectral Resolution\n",
       "0              0.001         8.250000e+06\n",
       "1              0.002         4.125000e+06\n",
       "2              0.003         2.750000e+06\n",
       "3              0.004         2.062500e+06\n",
       "4              0.005         1.650000e+06\n",
       "..               ...                  ...\n",
       "115            0.116         7.112069e+04\n",
       "116            0.117         7.051282e+04\n",
       "117            0.118         6.991525e+04\n",
       "118            0.119         6.932773e+04\n",
       "119            0.120         6.875000e+04\n",
       "\n",
       "[120 rows x 2 columns]"
      ]
     },
     "metadata": {},
     "output_type": "display_data"
    }
   ],
   "source": [
    "df = pd.DataFrame({\n",
    "    'Slit Width (mm)': x,\n",
    "    'Spectral Resolution': spectral_res_values\n",
    "})\n",
    "\n",
    "display(df)"
   ]
  },
  {
   "cell_type": "code",
   "execution_count": 10,
   "id": "28ab991e-8a39-4092-888c-59c22590d3dd",
   "metadata": {},
   "outputs": [
    {
     "data": {
      "text/plain": [
       "Text(0.5, 1.0, 'Slit Width (mm) vs Spectral Resolution of MVL100M23 at Upper Wavelength')"
      ]
     },
     "execution_count": 10,
     "metadata": {},
     "output_type": "execute_result"
    },
    {
     "data": {
      "image/png": "[encoded data removed]",
      "text/plain": [
       "<Figure size 640x480 with 1 Axes>"
      ]
     },
     "metadata": {},
     "output_type": "display_data"
    }
   ],
   "source": [
    "plt.plot(x, spectral_res_values)\n",
    "plt.xlabel(\"Slit Width (mm)\")\n",
    "plt.ylabel(\"Spectral Resolution\")\n",
    "plt.title(\"Slit Width (mm) vs Spectral Resolution of MVL100M23 at Upper Wavelength\")"
   ]
  },
  {
   "cell_type": "markdown",
   "id": "ce4254f8-e084-41c4-abe6-5d4c989293da",
   "metadata": {},
   "source": [
    "# Slit Width vs Spectral Resolution at Lower Wavelength - 1600 nm\n",
    "\n",
    "Similar process for Target Wavelength. However, instead of $\\lambda = 1650$nm, $\\lambda=1600$nm. The Spectral Resolution plotted is thus:\n",
    "\n",
    "\\begin{equation}\n",
    "SR = \\frac{1600 \\cdot 100}{20 \\cdot w}\n",
    "\\end{equation}."
   ]
  },
  {
   "cell_type": "code",
   "execution_count": 12,
   "id": "2dfbebaf-4903-4e44-b29c-59616d3dafb4",
   "metadata": {},
   "outputs": [],
   "source": [
    "# Lower Wavelength\n",
    "\n",
    "spectral_res_values = []\n",
    "for i in range(1, 121):\n",
    "    mm = i / 1000\n",
    "    fwhm = (20 * mm) / 100 #slit width in mm --> consistent with FWHM Formula\n",
    "    sr = 1600 / fwhm\n",
    "    spectral_res_values.append(sr)\n",
    "\n",
    "x = [i/1000 for i in range(1, 121)]\n"
   ]
  },
  {
   "cell_type": "code",
   "execution_count": 13,
   "id": "42f3074e-19a5-4b75-bb9b-48230c8eda57",
   "metadata": {},
   "outputs": [
    {
     "data": {
      "text/html": [
       "<div>\n",
       "<style scoped>\n",
       "    .dataframe tbody tr th:only-of-type {\n",
       "        vertical-align: middle;\n",
       "    }\n",
       "\n",
       "    .dataframe tbody tr th {\n",
       "        vertical-align: top;\n",
       "    }\n",
       "\n",
       "    .dataframe thead th {\n",
       "        text-align: right;\n",
       "    }\n",
       "</style>\n",
       "<table border=\"1\" class=\"dataframe\">\n",
       "  <thead>\n",
       "    <tr style=\"text-align: right;\">\n",
       "      <th></th>\n",
       "      <th>Slit Width (mm)</th>\n",
       "      <th>Spectral Resolution</th>\n",
       "    </tr>\n",
       "  </thead>\n",
       "  <tbody>\n",
       "    <tr>\n",
       "      <th>0</th>\n",
       "      <td>0.001</td>\n",
       "      <td>8.000000e+06</td>\n",
       "    </tr>\n",
       "    <tr>\n",
       "      <th>1</th>\n",
       "      <td>0.002</td>\n",
       "      <td>4.000000e+06</td>\n",
       "    </tr>\n",
       "    <tr>\n",
       "      <th>2</th>\n",
       "      <td>0.003</td>\n",
       "      <td>2.666667e+06</td>\n",
       "    </tr>\n",
       "    <tr>\n",
       "      <th>3</th>\n",
       "      <td>0.004</td>\n",
       "      <td>2.000000e+06</td>\n",
       "    </tr>\n",
       "    <tr>\n",
       "      <th>4</th>\n",
       "      <td>0.005</td>\n",
       "      <td>1.600000e+06</td>\n",
       "    </tr>\n",
       "    <tr>\n",
       "      <th>...</th>\n",
       "      <td>...</td>\n",
       "      <td>...</td>\n",
       "    </tr>\n",
       "    <tr>\n",
       "      <th>115</th>\n",
       "      <td>0.116</td>\n",
       "      <td>6.896552e+04</td>\n",
       "    </tr>\n",
       "    <tr>\n",
       "      <th>116</th>\n",
       "      <td>0.117</td>\n",
       "      <td>6.837607e+04</td>\n",
       "    </tr>\n",
       "    <tr>\n",
       "      <th>117</th>\n",
       "      <td>0.118</td>\n",
       "      <td>6.779661e+04</td>\n",
       "    </tr>\n",
       "    <tr>\n",
       "      <th>118</th>\n",
       "      <td>0.119</td>\n",
       "      <td>6.722689e+04</td>\n",
       "    </tr>\n",
       "    <tr>\n",
       "      <th>119</th>\n",
       "      <td>0.120</td>\n",
       "      <td>6.666667e+04</td>\n",
       "    </tr>\n",
       "  </tbody>\n",
       "</table>\n",
       "<p>120 rows × 2 columns</p>\n",
       "</div>"
      ],
      "text/plain": [
       "     Slit Width (mm)  Spectral Resolution\n",
       "0              0.001         8.000000e+06\n",
       "1              0.002         4.000000e+06\n",
       "2              0.003         2.666667e+06\n",
       "3              0.004         2.000000e+06\n",
       "4              0.005         1.600000e+06\n",
       "..               ...                  ...\n",
       "115            0.116         6.896552e+04\n",
       "116            0.117         6.837607e+04\n",
       "117            0.118         6.779661e+04\n",
       "118            0.119         6.722689e+04\n",
       "119            0.120         6.666667e+04\n",
       "\n",
       "[120 rows x 2 columns]"
      ]
     },
     "metadata": {},
     "output_type": "display_data"
    }
   ],
   "source": [
    "df = pd.DataFrame({\n",
    "    'Slit Width (mm)': x,\n",
    "    'Spectral Resolution': spectral_res_values\n",
    "})\n",
    "\n",
    "display(df)"
   ]
  },
  {
   "cell_type": "code",
   "execution_count": 11,
   "id": "65d56f7b-0627-4d19-abdd-4c6f3e73e308",
   "metadata": {},
   "outputs": [
    {
     "data": {
      "text/plain": [
       "Text(0.5, 1.0, 'Slit Width (mm) vs Spectral Resolution of MVL100M23 at Upper Wavelength')"
      ]
     },
     "execution_count": 11,
     "metadata": {},
     "output_type": "execute_result"
    },
    {
     "data": {
      "image/png": "[encoded data removed]",
      "text/plain": [
       "<Figure size 640x480 with 1 Axes>"
      ]
     },
     "metadata": {},
     "output_type": "display_data"
    }
   ],
   "source": [
    "plt.plot(x, spectral_res_values)\n",
    "plt.xlabel(\"Slit Width (mm)\")\n",
    "plt.ylabel(\"Spectral Resolution\")\n",
    "plt.title(\"Slit Width (mm) vs Spectral Resolution of MVL100M23 at Upper Wavelength\")"
   ]
  }
 ],
 "metadata": {
  "kernelspec": {
   "display_name": "Python 3 (ipykernel)",
   "language": "python",
   "name": "python3"
  },
  "language_info": {
   "codemirror_mode": {
    "name": "ipython",
    "version": 3
   },
   "file_extension": ".py",
   "mimetype": "text/x-python",
   "name": "python",
   "nbconvert_exporter": "python",
   "pygments_lexer": "ipython3",
   "version": "3.11.4"
  }
 },
 "nbformat": 4,
 "nbformat_minor": 5
}
